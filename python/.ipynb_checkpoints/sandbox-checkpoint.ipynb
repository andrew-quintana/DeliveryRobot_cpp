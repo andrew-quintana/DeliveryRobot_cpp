{
 "cells": [
  {
   "cell_type": "code",
   "execution_count": 5,
   "id": "unauthorized-locking",
   "metadata": {},
   "outputs": [],
   "source": [
    "from jetbot import Robot\n",
    "import time\n",
    "import ctypes\n",
    "from drivers import delivery_driver as dd\n",
    "#from drivers import cpp_interpreter as cpi"
   ]
  },
  {
   "cell_type": "code",
   "execution_count": 6,
   "id": "comprehensive-johnston",
   "metadata": {},
   "outputs": [],
   "source": [
    "dr = dd.DeliveryRobot()"
   ]
  },
  {
   "cell_type": "code",
   "execution_count": 8,
   "id": "personalized-translator",
   "metadata": {},
   "outputs": [],
   "source": [
    "dr.step_forward()\n",
    "image_dir = '../docs/images/testing'\n",
    "dr.take_picture(image_dir)"
   ]
  },
  {
   "cell_type": "code",
   "execution_count": null,
   "id": "roman-oklahoma",
   "metadata": {},
   "outputs": [],
   "source": []
  }
 ],
 "metadata": {
  "kernelspec": {
   "display_name": "Python 3",
   "language": "python",
   "name": "python3"
  },
  "language_info": {
   "codemirror_mode": {
    "name": "ipython",
    "version": 3
   },
   "file_extension": ".py",
   "mimetype": "text/x-python",
   "name": "python",
   "nbconvert_exporter": "python",
   "pygments_lexer": "ipython3",
   "version": "3.6.9"
  }
 },
 "nbformat": 4,
 "nbformat_minor": 5
}
