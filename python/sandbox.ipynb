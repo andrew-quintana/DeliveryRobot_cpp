{
 "cells": [
  {
   "cell_type": "code",
   "execution_count": 1,
   "id": "respected-bradley",
   "metadata": {},
   "outputs": [
    {
     "ename": "NameError",
     "evalue": "name 'os' is not defined",
     "output_type": "error",
     "traceback": [
      "\u001b[0;31m\u001b[0m",
      "\u001b[0;31mNameError\u001b[0mTraceback (most recent call last)",
      "\u001b[0;32m<ipython-input-1-c65cb5c66650>\u001b[0m in \u001b[0;36m<module>\u001b[0;34m\u001b[0m\n\u001b[1;32m      2\u001b[0m \u001b[0;32mimport\u001b[0m \u001b[0mtime\u001b[0m\u001b[0;34m\u001b[0m\u001b[0;34m\u001b[0m\u001b[0m\n\u001b[1;32m      3\u001b[0m \u001b[0;32mimport\u001b[0m \u001b[0mctypes\u001b[0m\u001b[0;34m\u001b[0m\u001b[0;34m\u001b[0m\u001b[0m\n\u001b[0;32m----> 4\u001b[0;31m \u001b[0mos\u001b[0m\u001b[0;34m.\u001b[0m\u001b[0mchdir\u001b[0m\u001b[0;34m(\u001b[0m\u001b[0;34m'/workspace/DeliveryRobot/python'\u001b[0m\u001b[0;34m)\u001b[0m\u001b[0;34m\u001b[0m\u001b[0;34m\u001b[0m\u001b[0m\n\u001b[0m\u001b[1;32m      5\u001b[0m \u001b[0;32mfrom\u001b[0m \u001b[0mdrivers\u001b[0m \u001b[0;32mimport\u001b[0m \u001b[0mdelivery_driver\u001b[0m \u001b[0;32mas\u001b[0m \u001b[0mdd\u001b[0m\u001b[0;34m\u001b[0m\u001b[0;34m\u001b[0m\u001b[0m\n\u001b[1;32m      6\u001b[0m \u001b[0;32mfrom\u001b[0m \u001b[0mdrivers\u001b[0m \u001b[0;32mimport\u001b[0m \u001b[0mcpp_interpreter\u001b[0m \u001b[0;32mas\u001b[0m \u001b[0mcpi\u001b[0m\u001b[0;34m\u001b[0m\u001b[0;34m\u001b[0m\u001b[0m\n",
      "\u001b[0;31mNameError\u001b[0m: name 'os' is not defined"
     ]
    }
   ],
   "source": [
    "from jetbot import Robot\n",
    "import time\n",
    "import ctypes\n",
    "import os\n",
    "os.chdir('/workspace/DeliveryRobot/python')\n",
    "from drivers import delivery_driver as dd\n",
    "from drivers import cpp_interpreter as cpi\n"
   ]
  },
  {
   "cell_type": "code",
   "execution_count": 27,
   "id": "public-olive",
   "metadata": {},
   "outputs": [
    {
     "ename": "NameError",
     "evalue": "name 'delivery_driver' is not defined",
     "output_type": "error",
     "traceback": [
      "\u001b[0;31m\u001b[0m",
      "\u001b[0;31mNameError\u001b[0mTraceback (most recent call last)",
      "\u001b[0;32m<ipython-input-27-93e75d6647c3>\u001b[0m in \u001b[0;36m<module>\u001b[0;34m\u001b[0m\n\u001b[0;32m----> 1\u001b[0;31m \u001b[0mprint\u001b[0m\u001b[0;34m(\u001b[0m\u001b[0mdir\u001b[0m\u001b[0;34m(\u001b[0m\u001b[0mdelivery_driver\u001b[0m\u001b[0;34m)\u001b[0m\u001b[0;34m)\u001b[0m\u001b[0;34m\u001b[0m\u001b[0;34m\u001b[0m\u001b[0m\n\u001b[0m",
      "\u001b[0;31mNameError\u001b[0m: name 'delivery_driver' is not defined"
     ]
    }
   ],
   "source": [
    "print(dir(delivery_driver))"
   ]
  },
  {
   "cell_type": "code",
   "execution_count": 28,
   "id": "acoustic-campbell",
   "metadata": {},
   "outputs": [],
   "source": [
    "dr = dd.DeliveryRobot()"
   ]
  },
  {
   "cell_type": "code",
   "execution_count": 29,
   "id": "matched-criminal",
   "metadata": {},
   "outputs": [],
   "source": [
    "dr.step_forward()\n",
    "image_dir = '../docs/images/testing'\n",
    "dr.take_picture(image_dir)"
   ]
  },
  {
   "cell_type": "code",
   "execution_count": null,
   "id": "chemical-excerpt",
   "metadata": {},
   "outputs": [],
   "source": []
  }
 ],
 "metadata": {
  "kernelspec": {
   "display_name": "Python 3",
   "language": "python",
   "name": "python3"
  },
  "language_info": {
   "codemirror_mode": {
    "name": "ipython",
    "version": 3
   },
   "file_extension": ".py",
   "mimetype": "text/x-python",
   "name": "python",
   "nbconvert_exporter": "python",
   "pygments_lexer": "ipython3",
   "version": "3.6.9"
  }
 },
 "nbformat": 4,
 "nbformat_minor": 5
}
